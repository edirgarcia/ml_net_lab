{
 "cells": [
  {
   "cell_type": "markdown",
   "metadata": {},
   "source": [
    "# Regression model for Taxi fares using ML .NET\n",
    "\n",
    "Regression is a ML task type of supervised machine learning algorithms. \n",
    "A regression ML model predicts continuous value outputs (such as numbers). \n",
    "For instance, predicting the fare of a Taxi trip or predicting the price of a car is a regression problem."
   ]
  },
  {
   "cell_type": "markdown",
   "metadata": {},
   "source": [
    "# Install the NuGet packages you use in the notebook"
   ]
  },
  {
   "cell_type": "code",
   "execution_count": null,
   "metadata": {},
   "outputs": [],
   "source": [
    "#r \"nuget:Microsoft.ML,1.4.0\"\n",
    "#r \"nuget:Microsoft.Data.Analysis,0.1.0\"\n",
    "#r \"nuget:XPlot.Plotly,2.0.0\"\n",
    "#r \"nuget:Microsoft.ML.Mkl.Components,1.4.0\"\n",
    "using XPlot.Plotly;\n",
    "using Microsoft.Data.Analysis;\n",
    "using Microsoft.ML;\n",
    "using Microsoft.ML.Data;"
   ]
  },
  {
   "cell_type": "markdown",
   "metadata": {},
   "source": [
    "# Declare data-classes for input data and predictions"
   ]
  },
  {
   "cell_type": "code",
   "execution_count": null,
   "metadata": {},
   "outputs": [],
   "source": [
    "display(h4(\"Declaring data-classes to use across the code in this notebook.\"));\n",
    "\n",
    "public class TaxiTrip\n",
    "{\n",
    "    [LoadColumn(0)]\n",
    "    public string VendorId;\n",
    "\n",
    "    [LoadColumn(1)]\n",
    "    public string RateCode;\n",
    "\n",
    "    [LoadColumn(2)]\n",
    "    public float PassengerCount;\n",
    "\n",
    "    [LoadColumn(3)]\n",
    "    public float TripTime;\n",
    "\n",
    "    [LoadColumn(4)]\n",
    "    public float TripDistance;\n",
    "\n",
    "    [LoadColumn(5)]\n",
    "    public string PaymentType;\n",
    "\n",
    "    [LoadColumn(6)]\n",
    "    public float FareAmount;\n",
    "}\n",
    "\n",
    "public class TaxiTripFarePrediction\n",
    "{\n",
    "    [ColumnName(\"Score\")]\n",
    "    public float Score;\n",
    "}"
   ]
  },
  {
   "cell_type": "code",
   "execution_count": null,
   "metadata": {},
   "outputs": [],
   "source": [
    "// this is just boilerplate code to visualize tables neatly,\n",
    "// try removing it, training still works, but output is very unreadable...\n",
    "\n",
    "using Microsoft.AspNetCore.Html;\n",
    "using System.Collections;\n",
    "Formatter<DataDebuggerPreview>.Register((data, writer) =>\n",
    "{\n",
    "    var headers = new List<IHtmlContent>();\n",
    "    headers.Add(th(i(\"index\")));\n",
    "    headers.AddRange(data.ColumnView.Where(col => !col.Column.IsHidden).Select(c => (IHtmlContent) th(c.Column.Name)));\n",
    "    var colIndices = new List<int>();\n",
    "    int index = 0;\n",
    "    foreach(var col in data.ColumnView)\n",
    "    {\n",
    "        if(!col.Column.IsHidden)\n",
    "        {\n",
    "            colIndices.Add(index);\n",
    "        }\n",
    "        \n",
    "        index++;\n",
    "    }\n",
    "    \n",
    "    var rows = new List<List<IHtmlContent>>();\n",
    "    var take = 100;\n",
    "    for (var i = 0; i < Math.Min(take, data.RowView.Length); i++)\n",
    "    {\n",
    "        var cells = new List<IHtmlContent>();\n",
    "        cells.Add(td(i));\n",
    "        foreach (var localIndex in colIndices)\n",
    "        {\n",
    "            var value = data.RowView[i].Values[localIndex];\n",
    "            if(value.Value.GetType().IsGenericType && value.Value.GetType().GetGenericTypeDefinition() == typeof(VBuffer<>))\n",
    "            {\n",
    "                var denseVals = (IEnumerable)(value.Value.GetType().GetMethod(\"DenseValues\").Invoke(value.Value, null));\n",
    "                List<string> innerValList = new List<string>();\n",
    "                foreach(var innerVal in denseVals)\n",
    "                {\n",
    "                    innerValList.Add(Convert.ToString(innerVal));\n",
    "                }\n",
    "                var v = string.Join(\",\", innerValList);\n",
    "                cells.Add(td(v));\n",
    "            }\n",
    "            else\n",
    "                cells.Add(td(value.Value));\n",
    "        }\n",
    "        rows.Add(cells);\n",
    "    }\n",
    "    \n",
    "    var t = table(\n",
    "        thead(\n",
    "            headers),\n",
    "        tbody(\n",
    "            rows.Select(\n",
    "                r => tr(r))));\n",
    "    \n",
    "    writer.Write(t);\n",
    "}, \"text/html\");"
   ]
  },
  {
   "cell_type": "markdown",
   "metadata": {},
   "source": [
    "# Load datasets into IDataView and display the schema "
   ]
  },
  {
   "cell_type": "code",
   "execution_count": null,
   "metadata": {},
   "outputs": [],
   "source": [
    "display(h1(\"Code for loading the data into IDataViews: training dataset and test dataset\"));\n",
    "\n",
    "MLContext mlContext = new MLContext(seed: 0);\n",
    "\n",
    "string TrainDataPath = \"../datasets/taxi/taxi-fare-train.csv\";\n",
    "string TestDataPath = \"../datasets/taxi/taxi-fare-test.csv\";\n",
    "\n",
    "IDataView trainDataView = mlContext.Data.LoadFromTextFile<TaxiTrip>(TrainDataPath, hasHeader: true, separatorChar: ',');\n",
    "IDataView testDataView = mlContext.Data.LoadFromTextFile<TaxiTrip>(TestDataPath, hasHeader: true, separatorChar: ',');\n",
    "\n",
    "display(h4(\"Schema of training DataView:\"));\n",
    "display(trainDataView.Schema);\n"
   ]
  },
  {
   "cell_type": "markdown",
   "metadata": {},
   "source": [
    "## Show a few rows of loaded data "
   ]
  },
  {
   "cell_type": "code",
   "execution_count": null,
   "metadata": {},
   "outputs": [],
   "source": [
    "display(string.Format(\"DataView: Showing 10 rows with the columns\"));\n",
    "display(mlContext.Data.CreateEnumerable<TaxiTrip>(trainDataView, reuseRowObject: false).Take(20).ToList());"
   ]
  },
  {
   "cell_type": "markdown",
   "metadata": {},
   "source": [
    "# Data transformations pipeline for ML.NET model"
   ]
  },
  {
   "cell_type": "code",
   "execution_count": null,
   "metadata": {},
   "outputs": [],
   "source": [
    "display(h1(\"Apply Data Transformations pipeline\"));\n",
    "\n",
    "var dataProcessPipeline = mlContext.Transforms.Categorical.OneHotEncoding(outputColumnName: \"VendorIdEncoded\", inputColumnName: nameof(TaxiTrip.VendorId))\n",
    "                  .Append(mlContext.Transforms.Categorical.OneHotEncoding(outputColumnName: \"RateCodeEncoded\", inputColumnName: nameof(TaxiTrip.RateCode)))\n",
    "                  .Append(mlContext.Transforms.Categorical.OneHotEncoding(outputColumnName: \"PaymentTypeEncoded\",inputColumnName: nameof(TaxiTrip.PaymentType)))\n",
    "                  .Append(mlContext.Transforms.NormalizeMeanVariance(outputColumnName: nameof(TaxiTrip.PassengerCount)))\n",
    "                  .Append(mlContext.Transforms.NormalizeMeanVariance(outputColumnName: nameof(TaxiTrip.TripTime)))\n",
    "                  .Append(mlContext.Transforms.NormalizeMeanVariance(outputColumnName: nameof(TaxiTrip.TripDistance)))\n",
    "                  .Append(mlContext.Transforms.Concatenate(\"Features\", \"VendorIdEncoded\", \"RateCodeEncoded\", \"PaymentTypeEncoded\", \n",
    "                                                           nameof(TaxiTrip.PassengerCount), nameof(TaxiTrip.TripTime), nameof(TaxiTrip.TripDistance)));\n",
    "\n",
    "display(h3(\"Show transformed data...\"));\n",
    "\n",
    "var transformation = dataProcessPipeline.Fit(trainDataView).Transform(trainDataView);\n",
    "transformation.Preview()\n"
   ]
  },
  {
   "cell_type": "markdown",
   "metadata": {},
   "source": [
    "# Append the trainer/algorithm to pipeline and train the model"
   ]
  },
  {
   "cell_type": "code",
   "execution_count": null,
   "metadata": {},
   "outputs": [],
   "source": [
    "%%time\n",
    "display(h1(\"Build Training Pipeline and Train the model\"));\n",
    "display(h4(\"Creating the Training Pipeline with trainer/algorithm\"));\n",
    "\n",
    "// STEP 3: Set the training algorithm - Selected Trainer (SDCA Regression algorithm)                            \n",
    "var trainer = mlContext.Regression.Trainers.Ols(labelColumnName: \"FareAmount\", featureColumnName: \"Features\");\n",
    "var trainingPipeline = dataProcessPipeline.Append(trainer);\n",
    "\n",
    "// STEP 4: Train the model fitting to the DataSet\n",
    "//The pipeline is trained on the dataset that has been loaded and transformed.\n",
    "display(\"=============== Training the model ===============\");\n",
    "var trainedModel = trainingPipeline.Fit(trainDataView);"
   ]
  },
  {
   "cell_type": "markdown",
   "metadata": {},
   "source": [
    "## Make predictions in bulk from the TestDataset to be used for the metrics"
   ]
  },
  {
   "cell_type": "code",
   "execution_count": null,
   "metadata": {},
   "outputs": [],
   "source": [
    "// Make predictions to plot agaist actual values\n",
    "display(h3(\"===== Making predictions in bulk for the whole Test Dataset =====\"));\n",
    "// Make predictions in bulk (Transformed IDataView will have the predictions plus the actual/true values)\n",
    "IDataView predictionsDataView = trainedModel.Transform(testDataView);\n",
    "predictionsDataView.Preview()"
   ]
  },
  {
   "cell_type": "markdown",
   "metadata": {},
   "source": [
    "## Display the metrics (Model quality evaluation)"
   ]
  },
  {
   "cell_type": "code",
   "execution_count": null,
   "metadata": {},
   "outputs": [],
   "source": [
    "display(h3(\"===== Evaluating Model's accuracy with Test dataset =====\"));\n",
    "\n",
    "var metrics = mlContext.Regression.Evaluate(predictionsDataView, labelColumnName: \"FareAmount\", scoreColumnName: \"Score\");\n",
    "display(metrics);"
   ]
  },
  {
   "cell_type": "markdown",
   "metadata": {},
   "source": [
    "## Bar chart showing 'Actual fares vs. Predicted fares Comparison' "
   ]
  },
  {
   "cell_type": "code",
   "execution_count": null,
   "metadata": {},
   "outputs": [],
   "source": [
    "// Number of rows to use for Bar chart\n",
    "int totalNumberForBarChart  = 20;\n",
    "\n",
    "float[] actualFares = predictionsDataView.GetColumn<float>(\"FareAmount\").Take(totalNumberForBarChart).ToArray();\n",
    "float[] predictionFares = predictionsDataView.GetColumn<float>(\"Score\").Take(totalNumberForBarChart).ToArray();\n",
    "int[] elements = Enumerable.Range(0, totalNumberForBarChart).ToArray();\n",
    "\n",
    "// Define group for Actual values \n",
    "var ActualValuesGroupBarGraph = new Graph.Bar()\n",
    "{\n",
    "    x = elements,\n",
    "    y = actualFares,\n",
    "    name = \"Actual\"\n",
    "};\n",
    "\n",
    "// Define group for Prediction values \n",
    "var PredictionValuesGroupBarGraph = new Graph.Bar()\n",
    "{\n",
    "    x = elements,\n",
    "    y = predictionFares,\n",
    "    name = \"Predicted\"\n",
    "};\n",
    "\n",
    "var chart = Chart.Plot(new[] {ActualValuesGroupBarGraph, PredictionValuesGroupBarGraph});\n",
    "\n",
    "var layout = new Layout.Layout(){barmode = \"group\", title=\"Actual fares vs. Predicted fares Comparison\"};\n",
    "chart.WithLayout(layout);\n",
    "chart.WithXTitle(\"Cases\");\n",
    "chart.WithYTitle(\"Fare\");\n",
    "chart.WithLegend(true);\n",
    "chart.Width = 700;\n",
    "chart.Height = 400;\n",
    "\n",
    "display(chart);"
   ]
  },
  {
   "cell_type": "markdown",
   "metadata": {},
   "source": [
    "# Save the ML model as a file"
   ]
  },
  {
   "cell_type": "code",
   "execution_count": null,
   "metadata": {},
   "outputs": [],
   "source": [
    "display(h1(\"Saving the ML.NET Model as a file...\"));\n",
    "\n",
    "string modelFilePath = \"models/ml_net_taxi_csharp.zip\";\n",
    "\n",
    "// GetAbsolutePath(modelRelativePath)\n",
    "mlContext.Model.Save(trainedModel, trainDataView.Schema, modelFilePath);\n",
    "\n",
    "display(h3($\"The model was saved to: {modelFilePath}\"));\n"
   ]
  },
  {
   "cell_type": "code",
   "execution_count": null,
   "metadata": {},
   "outputs": [],
   "source": []
  }
 ],
 "metadata": {
  "kernelspec": {
   "display_name": ".NET (C#)",
   "language": "C#",
   "name": ".net-csharp"
  },
  "language_info": {
   "file_extension": ".cs",
   "mimetype": "text/x-csharp",
   "name": "C#",
   "pygments_lexer": "csharp",
   "version": "8.0"
  }
 },
 "nbformat": 4,
 "nbformat_minor": 2
}
