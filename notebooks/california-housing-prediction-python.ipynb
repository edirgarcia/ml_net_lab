{
 "cells": [
  {
   "cell_type": "markdown",
   "metadata": {},
   "source": [
    "# Regression model for California housing using NimbusML\n",
    "\n",
    "Regression is a ML task type of supervised machine learning algorithms. A regression ML model predicts continuous value outputs (such as numbers). In this exaple trying to predict the AverageHousePrice of a neighborhood in California."
   ]
  },
  {
   "cell_type": "markdown",
   "metadata": {},
   "source": [
    "## Verify your NimbusML version"
   ]
  },
  {
   "cell_type": "code",
   "execution_count": null,
   "metadata": {},
   "outputs": [],
   "source": [
    "# import nimbusml, verify your version\n",
    "import nimbusml\n",
    "from nimbusml import FileDataStream, DataSchema\n",
    "print(\"nimbusml version: \", nimbusml.__version__)"
   ]
  },
  {
   "cell_type": "markdown",
   "metadata": {},
   "source": [
    "## Load your data"
   ]
  },
  {
   "cell_type": "code",
   "execution_count": null,
   "metadata": {},
   "outputs": [],
   "source": [
    "# load data using FileDataStream\n",
    "# these are actually faster than Pandas Dataframes\n",
    "# Do you want to know more? https://arxiv.org/pdf/1905.05715.pdf\n",
    "ds_train = FileDataStream.read_csv(\"../datasets/california-housing/california-housing-train.csv\", numeric_dtype=\"R4\")\n",
    "ds_test = FileDataStream.read_csv(\"../datasets/california-housing/california-housing-test.csv\", numeric_dtype=\"R4\")\n",
    "ds_train.head(5)"
   ]
  },
  {
   "cell_type": "markdown",
   "metadata": {},
   "source": [
    "## Verify the schema of your data "
   ]
  },
  {
   "cell_type": "code",
   "execution_count": null,
   "metadata": {},
   "outputs": [],
   "source": [
    "# Want to know more about the Schema?\n",
    "# https://docs.microsoft.com/en-us/nimbusml/concepts/schema\n",
    "\n",
    "# Want to know more about data types? in Nimbus?\n",
    "# https://docs.microsoft.com/en-us/nimbusml/concepts/types\n",
    "ds_train.schema"
   ]
  },
  {
   "cell_type": "markdown",
   "metadata": {},
   "source": [
    "## Data transformations pipeline for NimbusML model"
   ]
  },
  {
   "cell_type": "code",
   "execution_count": null,
   "metadata": {},
   "outputs": [],
   "source": [
    "# create a pipeline, and a scaler\n",
    "from nimbusml import Pipeline\n",
    "from nimbusml.preprocessing.normalization import MeanVarianceScaler\n",
    "\n",
    "# https://docs.microsoft.com/en-us/python/api/nimbusml/nimbusml.preprocessing.normalization.meanvariancescaler?view=nimbusml-py-latest\n",
    "# not normalizing 'MedianHouseValue' why?\n",
    "mvs = MeanVarianceScaler()      << ['Longitude','Latitude','HousingMedianAge','TotalRooms','TotalBedrooms','Population','TotalHouseholds','MedianIncome']\n",
    "\n",
    "preprocess_pipeline = Pipeline([mvs])"
   ]
  },
  {
   "cell_type": "markdown",
   "metadata": {},
   "source": [
    "## Make it a training pipeline"
   ]
  },
  {
   "cell_type": "code",
   "execution_count": null,
   "metadata": {},
   "outputs": [],
   "source": [
    "# # create a regresor of your choice, append the trainer to the transform pipeline\n",
    "from nimbusml.linear_model import OrdinaryLeastSquaresRegressor\n",
    "from nimbusml.linear_model import FastLinearRegressor\n",
    "#OrdinaryLeastSquaresRegressor,FastLinearRegressor,OnlineGradientDescentRegressor,PoissonRegressionRegressor,\n",
    "#GamRegressor,LightGbmRegressor, FastTreesRegressor, FastForestRegressor, FastTreesTweedieRegressor\n",
    "# https://docs.microsoft.com/en-us/python/api/nimbusml/nimbusml.linear_model.fastlinearregressor?view=nimbusml-py-latest\n",
    "# https://docs.microsoft.com/en-us/python/api/nimbusml/nimbusml.linear_model.ordinaryleastsquaresregressor?view=nimbusml-py-latest\n",
    "\n",
    "olsr = OrdinaryLeastSquaresRegressor(feature= ['Longitude','Latitude','HousingMedianAge','TotalRooms','TotalBedrooms','Population','TotalHouseholds','MedianIncome'] , label='MedianHouseValue')\n",
    "flr = FastLinearRegressor(feature= ['Longitude','Latitude','HousingMedianAge','TotalRooms','TotalBedrooms','Population','TotalHouseholds','MedianIncome'] , label='MedianHouseValue')\n",
    "\n",
    "training_pipeline = preprocess_pipeline.clone()"
   ]
  },
  {
   "cell_type": "code",
   "execution_count": null,
   "metadata": {},
   "outputs": [],
   "source": [
    "training_pipeline.append(flr)"
   ]
  },
  {
   "cell_type": "markdown",
   "metadata": {},
   "source": [
    "## Fit both pipelines"
   ]
  },
  {
   "cell_type": "code",
   "execution_count": null,
   "metadata": {},
   "outputs": [],
   "source": [
    "# fit the pipelines\n",
    "preprocess_pipeline.fit(ds_train, 'y')\n",
    "training_pipeline.fit(ds_train, 'y')\n",
    "\n",
    "print(\"preprocess pipeline:\", preprocess_pipeline)\n",
    "print(\"training pipeline:\", training_pipeline)"
   ]
  },
  {
   "cell_type": "markdown",
   "metadata": {},
   "source": [
    "## Observe the transformed data"
   ]
  },
  {
   "cell_type": "code",
   "execution_count": null,
   "metadata": {},
   "outputs": [],
   "source": [
    "#look at the transformed data\n",
    "preprocess_pipeline.transform(ds_train)"
   ]
  },
  {
   "cell_type": "markdown",
   "metadata": {},
   "source": [
    "## Measure the performance on the training and test set"
   ]
  },
  {
   "cell_type": "code",
   "execution_count": null,
   "metadata": {},
   "outputs": [],
   "source": [
    "# calculate the metrics\n",
    "# https://docs.microsoft.com/en-us/nimbusml/concepts/metrics\n",
    "metrics, scores = training_pipeline.test(ds_train, output_scores=True)\n",
    "#print(scores) # uncomment this if you want to look at the scores\n",
    "metrics"
   ]
  },
  {
   "cell_type": "code",
   "execution_count": null,
   "metadata": {},
   "outputs": [],
   "source": [
    "metrics, scores = training_pipeline.test(ds_test, output_scores=True)\n",
    "#print(scores) # uncomment this if you want to look at the scores\n",
    "metrics"
   ]
  },
  {
   "cell_type": "markdown",
   "metadata": {},
   "source": [
    "## Basic Feature Engineering"
   ]
  },
  {
   "cell_type": "code",
   "execution_count": null,
   "metadata": {},
   "outputs": [],
   "source": [
    "# load the dataset now with pandas\n",
    "import pandas as pd\n",
    "# we're now loading the datasets with slower pandas, but we need to manipulate it.\n",
    "\n",
    "df_train = pd.read_csv(\"../datasets/california-housing/california-housing-train.csv\")\n",
    "df_test = pd.read_csv(\"../datasets/california-housing/california-housing-test.csv\")\n",
    "df_train.head(5)"
   ]
  },
  {
   "cell_type": "code",
   "execution_count": null,
   "metadata": {},
   "outputs": [],
   "source": [
    "# create basic features\n",
    "# Some really basic features, there's way fancier things we can do.\n",
    "df_train['NumRooms'] = df_train['TotalRooms'] / df_train['TotalHouseholds']\n",
    "df_train['NumBedrooms'] = df_train['TotalBedrooms'] / df_train['TotalHouseholds']\n",
    "df_train['PersonsPerHouse'] = df_train['Population'] / df_train['TotalHouseholds']\n",
    "df_train['RoomsPerPerson'] = df_train['TotalBedrooms'] / df_train['PersonsPerHouse'] \n",
    "df_train['BedroomsPerPerson'] = df_train['TotalBedrooms'] / df_train['PersonsPerHouse'] \n",
    "\n",
    "# Do it for test as well\n",
    "df_test['NumRooms'] = df_test['TotalRooms'] / df_test['TotalHouseholds']\n",
    "df_test['NumBedrooms'] = df_test['TotalBedrooms'] / df_test['TotalHouseholds']\n",
    "df_test['PersonsPerHouse'] = df_test['Population'] / df_test['TotalHouseholds']\n",
    "df_test['RoomsPerPerson'] = df_test['TotalBedrooms'] / df_test['PersonsPerHouse'] \n",
    "df_test['BedroomsPerPerson'] = df_test['TotalBedrooms'] / df_test['PersonsPerHouse'] \n",
    "\n",
    "#some other features less simple ones:\n",
    "\n",
    "#cal_df['room_value'] = cal_df['median_house_value'] / cal_df['num_rooms'] #   these features have the predict target, duh of course they're good\n",
    "#cal_df['bedroom_value'] = cal_df['median_house_value'] / cal_df['num_bedrooms']\n",
    "\n",
    "#cal_df['room_value'] = cal_df['median_house_value'] / 3  #silly example to show perfect predction because of target variable bleeding\n",
    "#cal_df['bedroom_value'] = cal_df['median_house_value'] / 3\n",
    "\n",
    "#cal_df['long_diff_from_sfo'] = abs(cal_df['longitude'] - -122.451183)\n",
    "#cal_df['lat_diff_from_sfo'] = abs(cal_df['latitude'] - 37.761345)\n",
    "#cal_df['long_diff_from_sjc'] = abs(cal_df['longitude'] - -121.879819)\n",
    "#cal_df['lat_diff_from_sjc'] = abs(cal_df['latitude'] - 37.325021)\n",
    "#cal_df['long_diff_from_sd'] = abs(cal_df['longitude'] - -117.146320)\n",
    "#cal_df['lat_diff_from_sd'] = abs(cal_df['latitude'] - 32.753505)\n",
    "#cal_df['long_diff_from_la'] = abs(cal_df['longitude'] - -118.393758)\n",
    "#cal_df['lat_diff_from_la'] = abs(cal_df['latitude'] - 34.038300)\n",
    "\n",
    "#cal_df['long_diff_from_avg'] = cal_df['longitude'] - cal_df['longitude'].mean()\n",
    "#cal_df['lat_diff_from_avg'] = cal_df['latitude'] - cal_df['latitude'].mean()"
   ]
  },
  {
   "cell_type": "code",
   "execution_count": null,
   "metadata": {},
   "outputs": [],
   "source": [
    "# verify everything looks good\n",
    "df_train.head(5)"
   ]
  },
  {
   "cell_type": "code",
   "execution_count": null,
   "metadata": {},
   "outputs": [],
   "source": [
    "# caution this is a descructive cell\n",
    "# separate the target variable\n",
    "df_train_y = df_train['MedianHouseValue']\n",
    "del(df_train['MedianHouseValue'])\n",
    "\n",
    "df_test_y = df_test['MedianHouseValue']\n",
    "del(df_test['MedianHouseValue'])"
   ]
  },
  {
   "cell_type": "code",
   "execution_count": null,
   "metadata": {},
   "outputs": [],
   "source": [
    "#create another pipeline that uses the new features\n",
    "new_mvs = MeanVarianceScaler()      << ['Longitude','Latitude','HousingMedianAge','TotalRooms','TotalBedrooms','Population','TotalHouseholds','MedianIncome','NumRooms','PersonsPerHouse','RoomsPerPerson','BedroomsPerPerson']\n",
    "\n",
    "new_preprocess_pipeline = Pipeline([new_mvs])\n",
    "\n",
    "new_flr = FastLinearRegressor(feature= ['Longitude','Latitude','HousingMedianAge','TotalRooms','TotalBedrooms','Population','TotalHouseholds','MedianIncome','NumRooms','PersonsPerHouse','RoomsPerPerson','BedroomsPerPerson'])\n",
    "\n",
    "new_training_pipeline = new_preprocess_pipeline.clone()\n",
    "\n",
    "new_training_pipeline.append(new_flr)"
   ]
  },
  {
   "cell_type": "code",
   "execution_count": null,
   "metadata": {},
   "outputs": [],
   "source": [
    "# fit the pipelines\n",
    "new_preprocess_pipeline.fit(df_train, df_train_y)\n",
    "new_training_pipeline.fit(df_train, df_train_y)\n",
    "\n",
    "print(\"preprocess pipeline:\", new_preprocess_pipeline)\n",
    "print(\"training pipeline:\", new_training_pipeline)"
   ]
  },
  {
   "cell_type": "code",
   "execution_count": null,
   "metadata": {},
   "outputs": [],
   "source": [
    "#evaluate metrics\n",
    "# https://docs.microsoft.com/en-us/nimbusml/concepts/metrics\n",
    "metrics, scores = new_training_pipeline.test(df_train, df_train_y, output_scores=True)\n",
    "#print(scores) # uncomment this if you want to look at the scores\n",
    "metrics"
   ]
  },
  {
   "cell_type": "code",
   "execution_count": null,
   "metadata": {},
   "outputs": [],
   "source": [
    "metrics, scores = new_training_pipeline.test(df_test, df_test_y, output_scores=True)\n",
    "#print(scores) # uncomment this if you want to look at the scores\n",
    "metrics"
   ]
  },
  {
   "cell_type": "markdown",
   "metadata": {},
   "source": [
    "## Visualize the pipeline"
   ]
  },
  {
   "cell_type": "code",
   "execution_count": null,
   "metadata": {},
   "outputs": [],
   "source": [
    "### create the pipeline diagram\n",
    "### Does this not work?\n",
    "### make sure you've installed graphviz https://graphviz.gitlab.io/download/\n",
    "### make sure you've run set_path_graphviz.bat \n",
    "from nimbusml.utils.exports import img_export_pipeline\n",
    "figure = img_export_pipeline(training_pipeline,ds_train)\n",
    "figure"
   ]
  },
  {
   "cell_type": "markdown",
   "metadata": {},
   "source": [
    "## Save the model"
   ]
  },
  {
   "cell_type": "code",
   "execution_count": null,
   "metadata": {},
   "outputs": [],
   "source": [
    "print(\"Saving the ML.NET Model as a file...\")\n",
    "\n",
    "model_file_path = \"../models/ml_net_california_housing_python.zip\"\n",
    "training_pipeline.save_model(model_file_path)\n",
    "\n",
    "print(\"The model was saved to: {}\".format(model_file_path))"
   ]
  }
 ],
 "metadata": {
  "kernelspec": {
   "display_name": "Python 3",
   "language": "python",
   "name": "python3"
  },
  "language_info": {
   "codemirror_mode": {
    "name": "ipython",
    "version": 3
   },
   "file_extension": ".py",
   "mimetype": "text/x-python",
   "name": "python",
   "nbconvert_exporter": "python",
   "pygments_lexer": "ipython3",
   "version": "3.7.7"
  }
 },
 "nbformat": 4,
 "nbformat_minor": 4
}
