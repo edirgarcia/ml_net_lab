{
 "cells": [
  {
   "cell_type": "markdown",
   "metadata": {},
   "source": [
    "# Regression model for Taxi fares using NimbusML\n",
    "\n",
    "Regression is a ML task type of supervised machine learning algorithms. A regression ML model predicts continuous value outputs (such as numbers). For instance, predicting the fare of a Taxi trip or predicting the price of a car is a regression problem."
   ]
  },
  {
   "cell_type": "markdown",
   "metadata": {},
   "source": [
    "## Verify your NimbusML version"
   ]
  },
  {
   "cell_type": "code",
   "execution_count": 1,
   "metadata": {},
   "outputs": [
    {
     "name": "stdout",
     "output_type": "stream",
     "text": [
      "nimbusml version:  1.7.0\n"
     ]
    }
   ],
   "source": [
    "import nimbusml\n",
    "from nimbusml import FileDataStream, DataSchema\n",
    "print(\"nimbusml version: \", nimbusml.__version__)"
   ]
  },
  {
   "cell_type": "markdown",
   "metadata": {},
   "source": [
    "## Load your data"
   ]
  },
  {
   "cell_type": "code",
   "execution_count": 3,
   "metadata": {},
   "outputs": [
    {
     "data": {
      "text/html": [
       "<div>\n",
       "<style scoped>\n",
       "    .dataframe tbody tr th:only-of-type {\n",
       "        vertical-align: middle;\n",
       "    }\n",
       "\n",
       "    .dataframe tbody tr th {\n",
       "        vertical-align: top;\n",
       "    }\n",
       "\n",
       "    .dataframe thead th {\n",
       "        text-align: right;\n",
       "    }\n",
       "</style>\n",
       "<table border=\"1\" class=\"dataframe\">\n",
       "  <thead>\n",
       "    <tr style=\"text-align: right;\">\n",
       "      <th></th>\n",
       "      <th>VendorId</th>\n",
       "      <th>RateCode</th>\n",
       "      <th>PassengerCount</th>\n",
       "      <th>TripTime</th>\n",
       "      <th>TripDistance</th>\n",
       "      <th>PaymentType</th>\n",
       "      <th>FareAmount</th>\n",
       "    </tr>\n",
       "  </thead>\n",
       "  <tbody>\n",
       "    <tr>\n",
       "      <th>0</th>\n",
       "      <td>CMT</td>\n",
       "      <td>1</td>\n",
       "      <td>1</td>\n",
       "      <td>1271</td>\n",
       "      <td>3.8</td>\n",
       "      <td>CRD</td>\n",
       "      <td>17.5</td>\n",
       "    </tr>\n",
       "    <tr>\n",
       "      <th>1</th>\n",
       "      <td>CMT</td>\n",
       "      <td>1</td>\n",
       "      <td>1</td>\n",
       "      <td>474</td>\n",
       "      <td>1.5</td>\n",
       "      <td>CRD</td>\n",
       "      <td>8.0</td>\n",
       "    </tr>\n",
       "    <tr>\n",
       "      <th>2</th>\n",
       "      <td>CMT</td>\n",
       "      <td>1</td>\n",
       "      <td>1</td>\n",
       "      <td>637</td>\n",
       "      <td>1.4</td>\n",
       "      <td>CRD</td>\n",
       "      <td>8.5</td>\n",
       "    </tr>\n",
       "    <tr>\n",
       "      <th>3</th>\n",
       "      <td>CMT</td>\n",
       "      <td>1</td>\n",
       "      <td>1</td>\n",
       "      <td>181</td>\n",
       "      <td>0.6</td>\n",
       "      <td>CSH</td>\n",
       "      <td>4.5</td>\n",
       "    </tr>\n",
       "    <tr>\n",
       "      <th>4</th>\n",
       "      <td>CMT</td>\n",
       "      <td>1</td>\n",
       "      <td>1</td>\n",
       "      <td>661</td>\n",
       "      <td>1.1</td>\n",
       "      <td>CRD</td>\n",
       "      <td>8.5</td>\n",
       "    </tr>\n",
       "  </tbody>\n",
       "</table>\n",
       "</div>"
      ],
      "text/plain": [
       "  VendorId  RateCode  PassengerCount  TripTime  TripDistance PaymentType  \\\n",
       "0      CMT         1               1      1271           3.8         CRD   \n",
       "1      CMT         1               1       474           1.5         CRD   \n",
       "2      CMT         1               1       637           1.4         CRD   \n",
       "3      CMT         1               1       181           0.6         CSH   \n",
       "4      CMT         1               1       661           1.1         CRD   \n",
       "\n",
       "   FareAmount  \n",
       "0        17.5  \n",
       "1         8.0  \n",
       "2         8.5  \n",
       "3         4.5  \n",
       "4         8.5  "
      ]
     },
     "execution_count": 3,
     "metadata": {},
     "output_type": "execute_result"
    }
   ],
   "source": [
    "# These are actually faster than Pandas Dataframes\n",
    "# Do you want to know more? https://arxiv.org/pdf/1905.05715.pdf\n",
    "ds_train = FileDataStream.read_csv(\"../datasets/taxi/taxi-fare-train.csv\")\n",
    "ds_test = FileDataStream.read_csv(\"../datasets/taxi/taxi-fare-test.csv\")\n",
    "ds_train.head(5)"
   ]
  },
  {
   "cell_type": "markdown",
   "metadata": {},
   "source": [
    "## Verify the schema of your data "
   ]
  },
  {
   "cell_type": "code",
   "execution_count": null,
   "metadata": {},
   "outputs": [],
   "source": [
    "# Want to know more about the Schema?\n",
    "# https://docs.microsoft.com/en-us/nimbusml/concepts/schema\n",
    "\n",
    "# Want to know more about data types? in Nimbus?\n",
    "# https://docs.microsoft.com/en-us/nimbusml/concepts/types\n",
    "ds_train.schema"
   ]
  },
  {
   "cell_type": "markdown",
   "metadata": {},
   "source": [
    "#### This is the infered schema. Does this look right to you?"
   ]
  },
  {
   "cell_type": "code",
   "execution_count": null,
   "metadata": {},
   "outputs": [],
   "source": [
    "# I'm changing the type of some columns\n",
    "# the defaults are not smart, I know more of the problem...\n",
    "ds_train.schema['RateCode'].type = \"TX\"\n",
    "ds_train.schema['PassengerCount'].type = \"R4\"\n",
    "ds_train.schema['TripTime'].type = \"R4\"\n",
    "ds_train.schema['TripDistance'].type = \"R4\"\n",
    "ds_train.schema[6].type = \"R4\""
   ]
  },
  {
   "cell_type": "code",
   "execution_count": null,
   "metadata": {},
   "outputs": [],
   "source": [
    "ds_train.schema"
   ]
  },
  {
   "cell_type": "code",
   "execution_count": null,
   "metadata": {},
   "outputs": [],
   "source": [
    "# you can also set it at load time:\n",
    "# schema = DataSchema.read_schema(\"./datasets/taxi/taxi-fare-train.csv\", collapse = False, sep = ',')\n",
    "#modify then load\n",
    "ds_test = FileDataStream.read_csv(\"./datasets/taxi/taxi-fare-test.csv\",  schema=ds_train.schema  )"
   ]
  },
  {
   "cell_type": "code",
   "execution_count": null,
   "metadata": {},
   "outputs": [],
   "source": [
    "ds_test.schema"
   ]
  },
  {
   "cell_type": "markdown",
   "metadata": {},
   "source": [
    "## Data transformations pipeline for NimbusML model"
   ]
  },
  {
   "cell_type": "code",
   "execution_count": null,
   "metadata": {},
   "outputs": [],
   "source": [
    "from nimbusml import Pipeline\n",
    "from nimbusml.feature_extraction.categorical import OneHotVectorizer\n",
    "from nimbusml.preprocessing.normalization import MeanVarianceScaler\n",
    "\n",
    "# https://docs.microsoft.com/en-us/python/api/nimbusml/nimbusml.feature_extraction.categorical.onehotvectorizer?view=nimbusml-py-latest\n",
    "onv = OneHotVectorizer()        <<['VendorId','RateCode','PaymentType']\n",
    "mvs = MeanVarianceScaler()      <<['PassengerCount','TripTime','TripDistance']\n",
    "\n",
    "preprocess_pipeline = Pipeline([onv,mvs])"
   ]
  },
  {
   "cell_type": "markdown",
   "metadata": {},
   "source": [
    "## Make it a training pipeline"
   ]
  },
  {
   "cell_type": "code",
   "execution_count": null,
   "metadata": {},
   "outputs": [],
   "source": [
    "from nimbusml.linear_model import OrdinaryLeastSquaresRegressor\n",
    "\n",
    "olsr = OrdinaryLeastSquaresRegressor(feature= ['VendorId', 'RateCode', 'PassengerCount', 'TripTime','TripDistance', 'PaymentType'] , label='FareAmount')\n",
    "\n",
    "training_pipeline = preprocess_pipeline.clone()"
   ]
  },
  {
   "cell_type": "code",
   "execution_count": null,
   "metadata": {},
   "outputs": [],
   "source": [
    "training_pipeline.append(olsr)"
   ]
  },
  {
   "cell_type": "markdown",
   "metadata": {},
   "source": [
    "## Fit both pipelines"
   ]
  },
  {
   "cell_type": "code",
   "execution_count": null,
   "metadata": {},
   "outputs": [],
   "source": [
    "# fit the pipelines\n",
    "preprocess_pipeline.fit(ds_train, 'y')\n",
    "training_pipeline.fit(ds_train, 'y')\n",
    "\n",
    "print(\"preprocess pipeline:\", preprocess_pipeline)\n",
    "print(\"training pipeline:\", training_pipeline)"
   ]
  },
  {
   "cell_type": "markdown",
   "metadata": {},
   "source": [
    "## Observe the transformed data"
   ]
  },
  {
   "cell_type": "code",
   "execution_count": null,
   "metadata": {},
   "outputs": [],
   "source": [
    "preprocess_pipeline.transform(ds_train)"
   ]
  },
  {
   "cell_type": "markdown",
   "metadata": {},
   "source": [
    "## Measure the performance on the training and test set"
   ]
  },
  {
   "cell_type": "code",
   "execution_count": null,
   "metadata": {},
   "outputs": [],
   "source": [
    "metrics, scores = training_pipeline.test(ds_train, output_scores=True)\n",
    "#print(scores) # uncomment this if you want to look at the scores\n",
    "metrics"
   ]
  },
  {
   "cell_type": "code",
   "execution_count": null,
   "metadata": {},
   "outputs": [],
   "source": [
    "metrics, scores = training_pipeline.test(ds_test, output_scores=True)\n",
    "#print(scores) # uncomment this if you want to look at the scores\n",
    "metrics"
   ]
  },
  {
   "cell_type": "markdown",
   "metadata": {},
   "source": [
    "## Visualize the pipeline"
   ]
  },
  {
   "cell_type": "code",
   "execution_count": null,
   "metadata": {},
   "outputs": [],
   "source": [
    "### Does this not work?\n",
    "### make sure you've installed graphviz https://graphviz.gitlab.io/download/\n",
    "### make sure you've run set_path_graphviz.bat \n",
    "from nimbusml.utils.exports import img_export_pipeline\n",
    "figure = img_export_pipeline(training_pipeline,ds_train)\n",
    "figure"
   ]
  },
  {
   "cell_type": "markdown",
   "metadata": {},
   "source": [
    "## Save the model"
   ]
  },
  {
   "cell_type": "code",
   "execution_count": null,
   "metadata": {},
   "outputs": [],
   "source": [
    "print(\"Saving the ML.NET Model as a file...\")\n",
    "\n",
    "model_file_path = \"../models/ml_net_taxi_python.zip\"\n",
    "training_pipeline.save_model(model_file_path)\n",
    "\n",
    "print(\"The model was saved to: {}\".format(model_file_path))"
   ]
  },
  {
   "cell_type": "code",
   "execution_count": null,
   "metadata": {},
   "outputs": [],
   "source": []
  }
 ],
 "metadata": {
  "kernelspec": {
   "display_name": "Python 3",
   "language": "python",
   "name": "python3"
  },
  "language_info": {
   "codemirror_mode": {
    "name": "ipython",
    "version": 3
   },
   "file_extension": ".py",
   "mimetype": "text/x-python",
   "name": "python",
   "nbconvert_exporter": "python",
   "pygments_lexer": "ipython3",
   "version": "3.6.10"
  }
 },
 "nbformat": 4,
 "nbformat_minor": 4
}
