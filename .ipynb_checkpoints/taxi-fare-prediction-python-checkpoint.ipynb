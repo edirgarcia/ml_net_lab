{
 "cells": [
  {
   "cell_type": "markdown",
   "metadata": {},
   "source": [
    "# Regression model for Taxi fares using NimbusML\n",
    "\n",
    "Regression is a ML task type of supervised machine learning algorithms. A regression ML model predicts continuous value outputs (such as numbers). For instance, predicting the fare of a Taxi trip or predicting the price of a car is a regression problem."
   ]
  },
  {
   "cell_type": "markdown",
   "metadata": {},
   "source": [
    "## Verify your NimbusML version"
   ]
  },
  {
   "cell_type": "code",
   "execution_count": null,
   "metadata": {},
   "outputs": [],
   "source": [
    "import nimbusml\n",
    "print( nimbusml.__version__)"
   ]
  },
  {
   "cell_type": "markdown",
   "metadata": {},
   "source": [
    "## Load your data"
   ]
  },
  {
   "cell_type": "code",
   "execution_count": null,
   "metadata": {},
   "outputs": [],
   "source": [
    "from nimbusml import FileDataStream\n",
    "\n",
    "# these are actually faster than Pandas Dataframes\n",
    "# Do you want to know more? https://arxiv.org/pdf/1905.05715.pdf\n",
    "ds_train = FileDataStream.read_csv(\"./datasets/taxi/taxi-fare-train.csv\")\n",
    "ds_test = FileDataStream.read_csv(\"./datasets/taxi/taxi-fare-test.csv\")\n",
    "ds_train.head(5)"
   ]
  },
  {
   "cell_type": "markdown",
   "metadata": {},
   "source": [
    "## Verify the schema of your data "
   ]
  },
  {
   "cell_type": "code",
   "execution_count": null,
   "metadata": {},
   "outputs": [],
   "source": [
    "# Want to know more about the Schema?\n",
    "# https://docs.microsoft.com/en-us/nimbusml/concepts/schema\n",
    "\n",
    "# Want to know more about data types? in Nimbus?\n",
    "# https://docs.microsoft.com/en-us/nimbusml/concepts/types\n",
    "ds_train.schema"
   ]
  },
  {
   "cell_type": "markdown",
   "metadata": {},
   "source": [
    "## Data transformations pipeline for NimbusML model"
   ]
  },
  {
   "cell_type": "code",
   "execution_count": null,
   "metadata": {},
   "outputs": [],
   "source": [
    "from nimbusml import Pipeline\n",
    "from nimbusml.feature_extraction.categorical import OneHotVectorizer\n",
    "from nimbusml.preprocessing.normalization import MeanVarianceScaler\n",
    "\n",
    "# https://docs.microsoft.com/en-us/python/api/nimbusml/nimbusml.feature_extraction.categorical.onehotvectorizer?view=nimbusml-py-latest\n",
    "onv = OneHotVectorizer()        <<['vendor_id','rate_code','payment_type']\n",
    "mvs = MeanVarianceScaler()      <<['passenger_count','trip_time_in_secs','trip_distance']\n",
    "\n",
    "dataProcessPipeline = Pipeline([onv,mvs])"
   ]
  },
  {
   "cell_type": "code",
   "execution_count": null,
   "metadata": {},
   "outputs": [],
   "source": [
    "result = dataProcessPipeline.fit_transform(ds_train, 'y')\n",
    "print(dataProcessPipeline)\n",
    "result"
   ]
  },
  {
   "cell_type": "code",
   "execution_count": null,
   "metadata": {},
   "outputs": [],
   "source": [
    "result.columns[16]"
   ]
  },
  {
   "cell_type": "code",
   "execution_count": null,
   "metadata": {},
   "outputs": [],
   "source": [
    "from nimbusml.linear_model import OrdinaryLeastSquaresRegressor\n",
    "olsr = OrdinaryLeastSquaresRegressor(feature= list(result.columns[0:16]) , label='fare_amount')"
   ]
  },
  {
   "cell_type": "code",
   "execution_count": null,
   "metadata": {},
   "outputs": [],
   "source": [
    "trainingPipeline = dataProcessPipeline.append(olsr)"
   ]
  }
 ],
 "metadata": {
  "kernelspec": {
   "display_name": "Python 3",
   "language": "python",
   "name": "python3"
  },
  "language_info": {
   "codemirror_mode": {
    "name": "ipython",
    "version": 3
   },
   "file_extension": ".py",
   "mimetype": "text/x-python",
   "name": "python",
   "nbconvert_exporter": "python",
   "pygments_lexer": "ipython3",
   "version": "3.6.10"
  }
 },
 "nbformat": 4,
 "nbformat_minor": 4
}
